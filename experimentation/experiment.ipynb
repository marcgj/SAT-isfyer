{
 "cells": [
  {
   "cell_type": "code",
   "execution_count": 9,
   "metadata": {},
   "outputs": [],
   "source": [
    "from IPython.display import clear_output\n",
    "import matplotlib.pyplot as plt\n",
    "import os\n",
    "import time\n",
    "import subprocess\n",
    "import sys\n",
    "\n",
    "sys.path.append(\"..\")\n",
    "from main import Formula, WalkSat\n",
    "\n"
   ]
  },
  {
   "cell_type": "code",
   "execution_count": 10,
   "metadata": {},
   "outputs": [],
   "source": [
    "# OPCIONS EXPERIMENT\n",
    "MAX_CLAUSES = 100\n",
    "STEP = 10\n",
    "\n",
    "OCURRENCES = 10\n",
    "\n",
    "\n",
    "# TODO fer que es pugi passar per parametre aquestes opcions\n",
    "max_tries = 1000\n",
    "max_flips = 1000\n",
    "w = 0.8\n"
   ]
  },
  {
   "cell_type": "code",
   "execution_count": 11,
   "metadata": {},
   "outputs": [
    {
     "name": "stdout",
     "output_type": "stream",
     "text": [
      "90\n"
     ]
    },
    {
     "name": "stderr",
     "output_type": "stream",
     "text": [
      "mkdir: ./experiment/90: File exists\n"
     ]
    }
   ],
   "source": [
    "%rm - rf ./experiment\n",
    "%mkdir experiment\n",
    "\n",
    "# Generate the experiments\n",
    "for n in range(10, MAX_CLAUSES, STEP):\n",
    "    clear_output()\n",
    "    print(n)\n",
    "    os.system(\"mkdir ./experiment/%i\" % n)\n",
    "    for i in range(1, OCURRENCES):\n",
    "        #                       <num-vars> <num-clauses> <clause-length>\n",
    "        os.popen(\n",
    "            \"python3 ./rnd-cnf-gen.py 50 %i 3 %i > ./experiment/%i/%i.cnf\" % (n, i, n, i))\n"
   ]
  },
  {
   "cell_type": "code",
   "execution_count": 12,
   "metadata": {},
   "outputs": [
    {
     "data": {
      "text/plain": [
       "[10, 20, 30, 40, 50, 60, 70, 80, 90]"
      ]
     },
     "execution_count": 12,
     "metadata": {},
     "output_type": "execute_result"
    }
   ],
   "source": [
    "res = os.listdir(\"experiment\")\n",
    "casted = [int(elem) for elem in res]\n",
    "casted.sort()\n",
    "experiments = casted\n",
    "x_axis = experiments\n",
    "x_axis\n"
   ]
  },
  {
   "cell_type": "code",
   "execution_count": 13,
   "metadata": {},
   "outputs": [
    {
     "data": {
      "text/plain": [
       "[0.0017493036058213976,\n",
       " 0.008483833736843534,\n",
       " 0.044211758507622614,\n",
       " 0.17536740832858616,\n",
       " 0.41846446990966796,\n",
       " 0.3982551097869873,\n",
       " 0.8443610668182373,\n",
       " 9999,\n",
       " 9999]"
      ]
     },
     "execution_count": 13,
     "metadata": {},
     "output_type": "execute_result"
    }
   ],
   "source": [
    "y_axis = []\n",
    "\n",
    "for exp in experiments:\n",
    "    problems = os.listdir(\"./experiment/%s\" % exp)\n",
    "    clear_output()\n",
    "    print(exp)\n",
    "\n",
    "    sum = 0\n",
    "    count = 0\n",
    "    for problem in problems:\n",
    "        start = time.time()\n",
    "\n",
    "        formula = Formula(\"./experiment/%s/%s\" % (exp, problem))\n",
    "        solver = WalkSat(formula)\n",
    "        res = solver.solve()\n",
    "\n",
    "        end = time.time()\n",
    "\n",
    "        if res:\n",
    "            sum += end-start\n",
    "            count += 1\n",
    "    if count == 0:\n",
    "        y_axis.append(max(y_axis))\n",
    "    else:   \n",
    "        y_axis.append(sum/count)\n",
    "\n",
    "clear_output()\n",
    "y_axis\n"
   ]
  },
  {
   "cell_type": "code",
   "execution_count": 14,
   "metadata": {},
   "outputs": [
    {
     "data": {
      "text/plain": [
       "Text(0, 0.5, 'Seconds')"
      ]
     },
     "execution_count": 14,
     "metadata": {},
     "output_type": "execute_result"
    },
    {
     "data": {
      "image/png": "[encoded data removed]",
      "text/plain": [
       "<Figure size 640x480 with 1 Axes>"
      ]
     },
     "metadata": {},
     "output_type": "display_data"
    }
   ],
   "source": [
    "plt.plot(x_axis, y_axis)\n",
    "plt.xlabel(\"N Clausules\")\n",
    "plt.ylabel(\"Seconds\")\n"
   ]
  }
 ],
 "metadata": {
  "kernelspec": {
   "display_name": "IAA",
   "language": "python",
   "name": "python3"
  },
  "language_info": {
   "codemirror_mode": {
    "name": "ipython",
    "version": 3
   },
   "file_extension": ".py",
   "mimetype": "text/x-python",
   "name": "python",
   "nbconvert_exporter": "python",
   "pygments_lexer": "ipython3",
   "version": "3.8.16"
  },
  "orig_nbformat": 4
 },
 "nbformat": 4,
 "nbformat_minor": 2
}
